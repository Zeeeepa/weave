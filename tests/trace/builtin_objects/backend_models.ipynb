{
 "cells": [
  {
   "cell_type": "code",
   "execution_count": 1,
   "metadata": {},
   "outputs": [],
   "source": [
    "import os\n",
    "\n",
    "os.environ[\"WF_TRACE_SERVER_URL\"] = \"http://127.0.01:6345\""
   ]
  },
  {
   "cell_type": "code",
   "execution_count": 2,
   "metadata": {},
   "outputs": [],
   "source": [
    "import weave"
   ]
  },
  {
   "cell_type": "code",
   "execution_count": 3,
   "metadata": {},
   "outputs": [
    {
     "name": "stdout",
     "output_type": "stream",
     "text": [
      "Logged in as Weights & Biases user: timssweeney.\n",
      "View Weave data at https://wandb.ai/timssweeney/remote_model_demo_4/weave\n"
     ]
    }
   ],
   "source": [
    "client = weave.init(\"remote_model_demo_4\")"
   ]
  },
  {
   "cell_type": "code",
   "execution_count": 4,
   "metadata": {},
   "outputs": [
    {
     "name": "stdout",
     "output_type": "stream",
     "text": [
      "🍩 https://wandb.ai/timssweeney/remote_model_demo_4/r/call/0193b4ad-e5f5-7c10-a41f-ee06bc0c34ea\n",
      "weave:///timssweeney/remote_model_demo_4/object/LiteLLMCompletionModel:KBsfUswVpEHFYmZuJjmhM2YH4EttkRZJSoH0Z0ZaNRY\n",
      "{'name': 'Fred', 'age': 30}\n"
     ]
    }
   ],
   "source": [
    "# Demonstrates creating a model in python\n",
    "\n",
    "from weave.builtin_objects.models.CompletionModel import LiteLLMCompletionModel\n",
    "\n",
    "model = LiteLLMCompletionModel(\n",
    "    model=\"gpt-4o\",\n",
    "    messages_template=[\n",
    "        {\n",
    "            \"role\": \"system\",\n",
    "            \"content\": \"Please extract the name and age from the following text\",\n",
    "        },\n",
    "        {\"role\": \"user\", \"content\": \"{user_input}\"},\n",
    "    ],\n",
    "    response_format={\n",
    "        \"type\": \"json_schema\",\n",
    "        \"json_schema\": {\n",
    "            \"name\": \"Person\",\n",
    "            \"schema\": {\n",
    "                \"type\": \"object\",\n",
    "                \"properties\": {\n",
    "                    \"age\": {\"type\": \"integer\"},\n",
    "                    \"name\": {\"type\": \"string\"},\n",
    "                },\n",
    "            },\n",
    "        },\n",
    "    },\n",
    ")\n",
    "\n",
    "res = model.predict(user_input=\"Hello, my name is Fred and I am 30 years old.\")\n",
    "\n",
    "print(model.ref.uri())\n",
    "\n",
    "print(res)"
   ]
  },
  {
   "cell_type": "code",
   "execution_count": 5,
   "metadata": {},
   "outputs": [
    {
     "data": {
      "text/plain": [
       "CallMethodRes(call_id='0193b4af-f064-7f92-8852-ed3024344dac', output={'name': 'Charles', 'age': 40})"
      ]
     },
     "execution_count": 5,
     "metadata": {},
     "output_type": "execute_result"
    }
   ],
   "source": [
    "# Demonstrates calling a model created in python\n",
    "\n",
    "from weave.trace_server.trace_server_interface import CallMethodReq\n",
    "\n",
    "call_res = client.server.call_method(\n",
    "    CallMethodReq(\n",
    "        project_id=client._project_id(),\n",
    "        object_ref=model.ref.uri(),\n",
    "        method_name=\"predict\",\n",
    "        args={\"user_input\": \"Hello, my name is Charles and I am 40 years old.\"},\n",
    "    )\n",
    ")\n",
    "\n",
    "call_res"
   ]
  },
  {
   "cell_type": "code",
   "execution_count": 7,
   "metadata": {},
   "outputs": [
    {
     "data": {
      "text/plain": [
       "ObjCreateRes(digest='k85wXnWLVxpHujpohAqNBIirXZSM6XRSOSk84n1XR84')"
      ]
     },
     "execution_count": 7,
     "metadata": {},
     "output_type": "execute_result"
    }
   ],
   "source": [
    "# Demonstrates creating a model in the UI - notice the digest match\n",
    "\n",
    "from weave.trace_server.trace_server_interface import ObjCreateReq\n",
    "\n",
    "obj_res = client.server.obj_create(\n",
    "    ObjCreateReq.model_validate(\n",
    "        {\n",
    "            \"obj\": {\n",
    "                \"project_id\": client._project_id(),\n",
    "                \"object_id\": \"LiteLLMCompletionModel\",\n",
    "                \"val\": {\n",
    "                    \"model\": \"gpt-4o\",\n",
    "                    \"messages_template\": [\n",
    "                        {\n",
    "                            \"role\": \"system\",\n",
    "                            \"content\": \"Please extract the name and age from the following text!\",\n",
    "                        },\n",
    "                        {\"role\": \"user\", \"content\": \"{user_input}\"},\n",
    "                    ],\n",
    "                    \"response_format\": {\n",
    "                        \"type\": \"json_schema\",\n",
    "                        \"json_schema\": {\n",
    "                            \"name\": \"Person\",\n",
    "                            \"schema\": {\n",
    "                                \"type\": \"object\",\n",
    "                                \"properties\": {\n",
    "                                    \"age\": {\"type\": \"integer\"},\n",
    "                                    \"name\": {\"type\": \"string\"},\n",
    "                                },\n",
    "                            },\n",
    "                        },\n",
    "                    },\n",
    "                },\n",
    "                \"set_leaf_object_class\": \"LiteLLMCompletionModel\",\n",
    "            }\n",
    "        }\n",
    "    )\n",
    ")\n",
    "\n",
    "obj_res"
   ]
  },
  {
   "cell_type": "code",
   "execution_count": 8,
   "metadata": {},
   "outputs": [
    {
     "name": "stdout",
     "output_type": "stream",
     "text": [
      "🍩 https://wandb.ai/timssweeney/remote_model_demo_4/r/call/0193b4b2-897b-77e0-b404-236415a689b9\n"
     ]
    },
    {
     "data": {
      "text/plain": [
       "{'name': 'Fred', 'age': 30}"
      ]
     },
     "execution_count": 8,
     "metadata": {},
     "output_type": "execute_result"
    }
   ],
   "source": [
    "# Demonstrates fetching a model in python that was created in the UI\n",
    "\n",
    "from weave.trace.refs import ObjectRef\n",
    "\n",
    "gotten_model = weave.ref(\n",
    "    ObjectRef(\n",
    "        entity=client.entity,\n",
    "        project=client.project,\n",
    "        name=\"LiteLLMCompletionModel\",\n",
    "        _digest=obj_res.digest,\n",
    "    ).uri()\n",
    ").get()\n",
    "\n",
    "res = gotten_model.predict(user_input=\"Hello, my name is Fred and I am 30 years old.\")\n",
    "res"
   ]
  },
  {
   "cell_type": "code",
   "execution_count": 9,
   "metadata": {},
   "outputs": [
    {
     "data": {
      "text/plain": [
       "LiteLLMCompletionModel(name=None, description=None, model='gpt-4o', messages_template=WeaveList([{'role': 'system', 'content': 'Please extract the name and age from the following text!'}, {'role': 'user', 'content': '{user_input}'}]), response_format=WeaveDict({'type': 'json_schema', 'json_schema': {'name': 'Person', 'schema': {'type': 'object', 'properties': {'age': {'type': 'integer'}, 'name': {'type': 'string'}}}}}))"
      ]
     },
     "execution_count": 9,
     "metadata": {},
     "output_type": "execute_result"
    }
   ],
   "source": [
    "gotten_model"
   ]
  },
  {
   "cell_type": "code",
   "execution_count": null,
   "metadata": {},
   "outputs": [],
   "source": []
  }
 ],
 "metadata": {
  "kernelspec": {
   "display_name": "wandb-weave",
   "language": "python",
   "name": "python3"
  },
  "language_info": {
   "codemirror_mode": {
    "name": "ipython",
    "version": 3
   },
   "file_extension": ".py",
   "mimetype": "text/x-python",
   "name": "python",
   "nbconvert_exporter": "python",
   "pygments_lexer": "ipython3",
   "version": "3.10.8"
  }
 },
 "nbformat": 4,
 "nbformat_minor": 2
}
